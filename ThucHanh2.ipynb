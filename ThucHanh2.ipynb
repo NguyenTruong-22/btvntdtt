{
  "nbformat": 4,
  "nbformat_minor": 0,
  "metadata": {
    "colab": {
      "provenance": []
    },
    "kernelspec": {
      "name": "python3",
      "display_name": "Python 3"
    },
    "language_info": {
      "name": "python"
    }
  },
  "cells": [
    {
      "cell_type": "code",
      "execution_count": 1,
      "metadata": {
        "id": "lJxU_5miHJcl"
      },
      "outputs": [],
      "source": [
        "#bai1\n",
        "n = int(input(\"Nhập số nguyên n: \"))\n",
        "print(n*2)"
      ]
    },
    {
      "cell_type": "code",
      "source": [
        "#bai2\n",
        "a = float(input(\"Nhập chiều rộng a: \"))\n",
        "b = float(input(\"Nhập chiều dài b: \"))\n",
        "s = a*b - 3.14*(a/2)**2\n",
        "print(f\"{s:.1f}\")"
      ],
      "metadata": {
        "id": "eq8XTkiBHdIh"
      },
      "execution_count": 2,
      "outputs": []
    },
    {
      "cell_type": "code",
      "source": [
        "#bai3\n",
        "character = input(\"Nhập vào một kí tự: \")\n",
        "if len(character) != 1:\n",
        "    print(\"Vui lòng nhập 1 kí tự\")\n",
        "elif 65 <= ord(character) <= 90:\n",
        "    a = ord(character) + 32\n",
        "    print(chr(a))\n",
        "elif 97 <= ord(character) <= 122:\n",
        "    a = ord(character) - 32\n",
        "    print(chr(a))\n",
        "else:\n",
        "    print(\"Không phải là kí tự alphabet\")"
      ],
      "metadata": {
        "id": "2RalUaspHfDP"
      },
      "execution_count": 3,
      "outputs": []
    },
    {
      "cell_type": "code",
      "source": [
        "#bai4\n",
        "character =  input(\"Nhập vào một 'kí tự': \")\n",
        "if 65 <= ord(character) <= 90 and 92 <= ord(character) <= 122:\n",
        "    print(f\"{{{character}}} là kí tự alphabet\")\n",
        "else:\n",
        "    print(f\"{{{character}}} là kí tự alphabet\")"
      ],
      "metadata": {
        "id": "jqRVULlvHgj_"
      },
      "execution_count": 4,
      "outputs": []
    },
    {
      "cell_type": "code",
      "source": [
        "#bai5\n",
        "A = input(\"Nhập chữ cái hoa: \")\n",
        "if len(A) != 1:\n",
        "    print(\"Vui lòng nhập 1 kí tự\")\n",
        "elif ord(A) == 65:\n",
        "    print(f\"'{A}' là đặc biệt\")\n",
        "elif 65 < ord(A) <= 90:\n",
        "    C = ord(A) + 32\n",
        "    B = ord(A) + 31\n",
        "    D = chr(C)\n",
        "    E = chr(B)\n",
        "    print(f\"Chữ cái thường liền trước chữ cái {D} tương ứng của {A} là: {E}\")\n",
        "else:\n",
        "    print(f\"Vui lòng nhập đúng chữ in hoa\")"
      ],
      "metadata": {
        "id": "qrdxt1hPHkBE"
      },
      "execution_count": 5,
      "outputs": []
    },
    {
      "cell_type": "code",
      "source": [
        "#bai6\n",
        "a, b, c = map(float,input(\"Nhập lần lượt 3 cạnh của tam giác (cách nhau bằng dấu cách): \").split())\n",
        "if a + b > c and a + c > b and b + c > a:\n",
        "    print(\"Đây là các cạnh của 1 tam giác\")\n",
        "    p = ( a + b + c ) / 2\n",
        "    import math\n",
        "    S = math.sqrt(p*(p-a)*(p-b)*(p-c))\n",
        "    print(f\"Diện tích của tam giác đó là: {S:.1f}\")\n",
        "else:\n",
        "    print(\"Khong phai 3 canh cua tam giac\")\n"
      ],
      "metadata": {
        "id": "u6dV6VHeHmPW"
      },
      "execution_count": 6,
      "outputs": []
    },
    {
      "cell_type": "code",
      "source": [
        "#bai7\n",
        "row = input(\"Nhập dãy kí tự: \")\n",
        "print(\"Chữ cái thứ năm là: \" + row[4])\n",
        "print(\"Chữ cái thứ chín là: \" + row[8])"
      ],
      "metadata": {
        "id": "RydtrrP_Hnzc"
      },
      "execution_count": 7,
      "outputs": []
    },
    {
      "cell_type": "code",
      "source": [
        "#bai8\n",
        "name = input(\"Ten chu ho: \")\n",
        "a = int(input(\"Chi so thang truoc: \"))\n",
        "b = int(input(\"Chi so thang nay: \"))\n",
        "print(f\"Ho va ten: {name}\")\n",
        "if b - a <= 50:\n",
        "    c = (b - a)*1984*1.08\n",
        "    print(f\"Tien phai tra la: {c:.0f}\")\n",
        "elif 50 < b - a <= 100:\n",
        "    c = ((b - a - 50)*2050 + 50 * 1984)*1.08\n",
        "    print(f\"Tien phai tra la: {c:.0f}\")\n",
        "elif 100 < b - a <= 200:\n",
        "    c = ((b - a - 100)*2380 + 50*2050 + 50 * 1984)*1.08\n",
        "    print(f\"Tien phai tra la: {c:.0f}\")\n",
        "elif 200 < b - a <= 300:\n",
        "    c = ((b - a - 200)*2998 + 100*2380 + 50*2050 + 50 * 1984)*1.08\n",
        "    print(f\"Tien phai tra la: {c:.0f}\")\n",
        "elif 300 < b - a <= 400:\n",
        "    c = ((b - a - 300)*3350 + 100*2998+ 100*2380 + 50*2050 + 50 * 1984)*1.08\n",
        "    print(f\"Tien phai tra la: {c:.0f}\")\n",
        "elif 400 < b - a:\n",
        "    c = ((b - a - 400)*3460 + 100*3350 + 100*2998 + 100*2380 + 50*2050 + 50 * 1984)*1.08\n",
        "    print(f\"Tien phai tra la: {c:.0f}\")\n",
        "else:\n",
        "    print(\"Vui lòng nhập đúng\")"
      ],
      "metadata": {
        "id": "Uy1KvUOdHo3N"
      },
      "execution_count": 8,
      "outputs": []
    },
    {
      "cell_type": "code",
      "source": [
        "#cau1\n",
        "a = int(input(\"Nhập một số nguyên: \"))\n",
        "if a % 2 == 0:\n",
        "    print(f\"{a} là số chẵn\")\n",
        "else:\n",
        "    print(f\"{a} là số lẻ\")"
      ],
      "metadata": {
        "id": "urU44M4eHqOe"
      },
      "execution_count": 9,
      "outputs": []
    },
    {
      "cell_type": "code",
      "source": [
        "#cau2\n",
        "a = int(input(\"Nhập một số nguyên: \"))\n",
        "if a % 5 == 0 and a % 2 != 0:\n",
        "    print(\"True\")\n",
        "else:\n",
        "    print(\"False\")"
      ],
      "metadata": {
        "id": "TSdHZPjqHtDV"
      },
      "execution_count": 11,
      "outputs": []
    },
    {
      "cell_type": "code",
      "source": [
        "#cau3\n",
        "a = int(input(\"Nhập một số nguyên: \"))\n",
        "if a % 5 == 0 and a % 3 == 0:\n",
        "    print(\"True\")\n",
        "else:\n",
        "    print(\"False\")"
      ],
      "metadata": {
        "id": "uz2u1IxQHuEU"
      },
      "execution_count": 12,
      "outputs": []
    },
    {
      "cell_type": "code",
      "source": [
        "#cau4\n",
        "a = int(input(\"Nhập năm sinh: \"))\n",
        "if 2025 - a >= 18:\n",
        "    print(\"Bạn đã đủ tuổi đi bầu cử\")\n",
        "else:\n",
        "    print(\"Bạn chưa đủ tuổi đi bầu cử\")"
      ],
      "metadata": {
        "id": "GFilJ2m7HvM1"
      },
      "execution_count": 13,
      "outputs": []
    },
    {
      "cell_type": "code",
      "source": [
        "#cau5\n",
        "nhap_so = input(\"Nhập 2 số ( cách nhau bằng dấu cách ): \").split()\n",
        "a,b = map(float,nhap_so)\n",
        "if a > b:\n",
        "    print(a)\n",
        "elif a < b:\n",
        "    print(b)\n",
        "else:\n",
        "    print(\"Hai số bằng nhau\")"
      ],
      "metadata": {
        "id": "7xhqm3vBHwbr"
      },
      "execution_count": 14,
      "outputs": []
    },
    {
      "cell_type": "code",
      "source": [
        "#cau6\n",
        "character = input(\"Nhập một ký tự: \")\n",
        "if 65 <= ord(character) <= 90 or 92 <= ord(character) <= 122:\n",
        "    print(f\"{character} là một ký tự\")\n",
        "else:\n",
        "    print(f\"{character} là một số\")"
      ],
      "metadata": {
        "id": "a6dwd1tqHylK"
      },
      "execution_count": 15,
      "outputs": []
    },
    {
      "cell_type": "code",
      "source": [
        "#cau7\n",
        "score = float(input(\"Nhập điểm: \"))\n",
        "if score >= 8:\n",
        "    print(\"Học lực giỏi\")\n",
        "elif 8 > score >= 6.5:\n",
        "    print(\"Học lực khá\")\n",
        "elif 6.5 > score >= 5:\n",
        "    print(\"Học lực trung bình\")\n",
        "else:\n",
        "    print(\"Học lực yếu\")"
      ],
      "metadata": {
        "id": "pIdW83l6HzfE"
      },
      "execution_count": 16,
      "outputs": []
    },
    {
      "cell_type": "code",
      "source": [
        "#cau8\n",
        "year = int(input(\"Nhập năm: \"))\n",
        "if year % 400 == 0 or ( year % 4 == 0 and year % 100 != 0 ):\n",
        "    print(f\"{year} là năm nhuận\")\n",
        "else:\n",
        "    print(f\"{year} không là năm nhuận\")"
      ],
      "metadata": {
        "id": "4kYzEgHlH0jH"
      },
      "execution_count": 17,
      "outputs": []
    },
    {
      "cell_type": "code",
      "source": [
        "#cau9\n",
        "x = int(input(\"Nhập  một số nguyên từ 0 đến 9: \"))\n",
        "match x:\n",
        "    case 0:\n",
        "        print(\"Không\")\n",
        "match x:\n",
        "    case 1:\n",
        "        print(\"Một\")\n",
        "match x:\n",
        "    case 2:\n",
        "        print(\"Hai\")\n",
        "match x:\n",
        "    case 3:\n",
        "        print(\"Ba\")\n",
        "match x:\n",
        "    case 4:\n",
        "        print(\"Bốn\")\n",
        "match x:\n",
        "    case 5:\n",
        "        print(\"Năm\")\n",
        "match x:\n",
        "    case 6:\n",
        "        print(\"Sáu\")\n",
        "match x:\n",
        "    case 7:\n",
        "        print(\"Bảy\")\n",
        "match x:\n",
        "    case 8:\n",
        "        print(\"Tám\")\n",
        "match x:\n",
        "    case 9:\n",
        "        print(\"Chín\")"
      ],
      "metadata": {
        "id": "Q2IZ9295H1sH"
      },
      "execution_count": 18,
      "outputs": []
    },
    {
      "cell_type": "code",
      "source": [
        "#cau10\n",
        "score = float(input(\"Nhập điểm: \"))\n",
        "if score >= 4:\n",
        "    print(\"Qua môn\")\n",
        "else:\n",
        "    print(\"Học lại\")"
      ],
      "metadata": {
        "id": "85AfpXoqH2ae"
      },
      "execution_count": 21,
      "outputs": []
    },
    {
      "cell_type": "code",
      "source": [
        "#cau11\n",
        "old = int(input(\"Nhập năm sinh: \"))\n",
        "a = 2025 - old\n",
        "if a >= 18:\n",
        "    print(f\"Tuổi hiện tại là: {a}\")\n",
        "    print(\"Người đó đã đủ 18 tuổi\")\n",
        "else:\n",
        "    print(f\"Tuổi hiện tại là: {a}\")\n",
        "    print(\"Người đó chưa đủ 18 tuổi\")"
      ],
      "metadata": {
        "id": "kf1imU5YH25f"
      },
      "execution_count": 20,
      "outputs": []
    }
  ]
}