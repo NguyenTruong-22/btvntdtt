{
  "nbformat": 4,
  "nbformat_minor": 0,
  "metadata": {
    "colab": {
      "provenance": []
    },
    "kernelspec": {
      "name": "python3",
      "display_name": "Python 3"
    },
    "language_info": {
      "name": "python"
    }
  },
  "cells": [
    {
      "cell_type": "code",
      "execution_count": 2,
      "metadata": {
        "colab": {
          "base_uri": "https://localhost:8080/"
        },
        "id": "iDiNMieABHUX",
        "outputId": "bc366e1d-d437-415d-c0d3-5ebf29c2f66e"
      },
      "outputs": [
        {
          "output_type": "stream",
          "name": "stdout",
          "text": [
            "Nhập số nguyên n: 2\n",
            "4\n"
          ]
        }
      ],
      "source": [
        "#bai1\n",
        "a = input(\"Nhập một số nguyên n: \")\n",
        "reverse = \" \"\n",
        "for i in a:\n",
        "    reverse = i + reverse\n",
        "print(reverse)"
      ]
    },
    {
      "cell_type": "code",
      "source": [
        "#bai2\n",
        "a, b = input(\"Nhập 2 số( cách nhau bằng dấu cách): \").split()\n",
        "a = int(a)\n",
        "b = int(b)\n",
        "a = a^b\n",
        "b = a^b\n",
        "a = a^b\n",
        "print(a, b)"
      ],
      "metadata": {
        "colab": {
          "base_uri": "https://localhost:8080/"
        },
        "id": "i4ngzbVFErxT",
        "outputId": "91ab9366-2cb8-4b59-f156-cf505931953d"
      },
      "execution_count": 5,
      "outputs": [
        {
          "output_type": "stream",
          "name": "stdout",
          "text": [
            "Nhập 2 số( cách nhau bằng dấu cách): 2 3\n",
            "3 2\n"
          ]
        }
      ]
    },
    {
      "cell_type": "code",
      "source": [
        "#bai3\n",
        "m = float(input(\"Nhập số m: \"))\n",
        "n = float(input(\"Nhấp số n: \"))\n",
        "a = m / n\n",
        "import math\n",
        "print(math.floor(a))"
      ],
      "metadata": {
        "id": "sD2bgSvKEsIE"
      },
      "execution_count": null,
      "outputs": []
    },
    {
      "cell_type": "code",
      "source": [
        "#bai4\n",
        "m = float(input(\"Nhập số m: \"))\n",
        "n = float(input(\"Nhấp số n: \"))\n",
        "a = m / n\n",
        "import math\n",
        "print(math.ceil(a))"
      ],
      "metadata": {
        "id": "T_eETluZEsSy"
      },
      "execution_count": null,
      "outputs": []
    },
    {
      "cell_type": "code",
      "source": [
        "#bai5\n",
        "x = int(input(\"Nhập một số nguyên dương: \"))\n",
        "if x % 2 == 0:\n",
        "    print(\"Even\")\n",
        "else:\n",
        "    print(\"Odd\")"
      ],
      "metadata": {
        "id": "qqf43LcZFTMc"
      },
      "execution_count": null,
      "outputs": []
    },
    {
      "cell_type": "code",
      "source": [
        "#bai6\n",
        "a = int(input(\"Nhập số nguyên a: \"))\n",
        "b = int(input(\"Nhập số nguyên b: \"))\n",
        "if a < 0 and b < 0:\n",
        "    print(\"Yes\")\n",
        "else:\n",
        "    print(\"No\")"
      ],
      "metadata": {
        "id": "SrAqxuNkFTcr"
      },
      "execution_count": null,
      "outputs": []
    },
    {
      "cell_type": "code",
      "source": [
        "#bai7\n",
        "a = input(\"Nhập chuỗi a: \")\n",
        "b = input(\"Nhập chuỗi b: \")\n",
        "if len(a) > len(b):\n",
        "    print(\"True\")\n",
        "else:\n",
        "    print(\"False\")"
      ],
      "metadata": {
        "id": "hAXi1z79FTkM"
      },
      "execution_count": null,
      "outputs": []
    },
    {
      "cell_type": "code",
      "source": [
        "#bai8\n",
        "a = int(input(\"Nhập số a: \"))\n",
        "b = int(input(\"Nhập số b: \"))\n",
        "c = int(input(\"Nhập số c: \"))\n",
        "if a + b > c and a + c > b and b + c > a:\n",
        "    print(\"Yes\")\n",
        "else:\n",
        "    print(\"No\")"
      ],
      "metadata": {
        "id": "Xtd3FffqFTrD"
      },
      "execution_count": null,
      "outputs": []
    },
    {
      "cell_type": "code",
      "source": [
        "#bai9\n",
        "a, b, c, d = map(int,input(\"Nhập 4 số nguyên( cách nhau bằng dấu cách): \").split())\n",
        "if a > b and a > c and a > d:\n",
        "    print(\"Số nguyên lớn nhất trong 4 số là: \",a)\n",
        "elif b > a and b > c and b > d:\n",
        "    print(\"Số nguyên lớn nhất trong 4 số là: \",b)\n",
        "elif c > a and c > b and c > d:\n",
        "    print(\"Số nguyên lớn nhất trong 4 số là: \",c)\n",
        "else:\n",
        "    print(\"Số nguyên lớn nhất trong 4 số là: \",d)"
      ],
      "metadata": {
        "id": "_z4XeS7eFTxS"
      },
      "execution_count": null,
      "outputs": []
    },
    {
      "cell_type": "code",
      "source": [
        "#bai10\n",
        "a, b, c = map(int,input(\"Nhập 3 số nguyên dương( cách nhau bằng dấu cách): \").split())\n",
        "if a == b == c != 0:\n",
        "    print(\"Tam giác đều\")\n",
        "elif a == b != c or a == c != b or a != b == c:\n",
        "    print(\"Tam giác cân\")\n",
        "elif a + b > c and a + c > b and b + c > a:\n",
        "    print(\"Tam giác thường\")\n",
        "else:\n",
        "    print(\"Không phải tam giác\")"
      ],
      "metadata": {
        "id": "l0ufUOSfFT4d"
      },
      "execution_count": null,
      "outputs": []
    },
    {
      "cell_type": "code",
      "source": [
        "#bai11\n",
        "a = int(input(\"Nhập năm: \"))\n",
        "if a %  400 == 0 or ( a % 4 == 0 and a % 100 != 0) :\n",
        "    print(\"Yes\")\n",
        "else:\n",
        "    print(\"No\")"
      ],
      "metadata": {
        "id": "SnbL82NSFdVb"
      },
      "execution_count": null,
      "outputs": []
    },
    {
      "cell_type": "code",
      "source": [
        "#bai12\n",
        "a = int(input(\"Nhập số kWh: \"))\n",
        "if a <= 50:\n",
        "    b = a * 1500\n",
        "    print(\"Tiền điện: \",b)\n",
        "elif 50 < a <= 100:\n",
        "    b = 50 * 1500 + (a - 50) * 2000\n",
        "    print(\"Tiền điện: \",b)\n",
        "elif a > 100:\n",
        "    b = 50*1500 + 50*20001 +(a-100)*3000\n",
        "    print(\"Tiền điện: \",b)\n",
        "else:\n",
        "    print(\"Vui lòng nhập lai\")"
      ],
      "metadata": {
        "id": "rieX1ojVFT_F"
      },
      "execution_count": null,
      "outputs": []
    },
    {
      "cell_type": "code",
      "source": [
        "#bai13\n",
        "a, b = map(float,input(\"Nhập 2 số thực a và b( cách nhau bằng dấu cách ): \").split())\n",
        "if a == b == 0:\n",
        "    print(\"Vô số nghiệm\")\n",
        "elif a == 0 != b:\n",
        "    print(\"Vô nghiệm\")\n",
        "else:\n",
        "    print(f\"{-b/a:.2f}\")"
      ],
      "metadata": {
        "id": "dIspskVHFUFk"
      },
      "execution_count": null,
      "outputs": []
    },
    {
      "cell_type": "code",
      "source": [
        "#bai14\n",
        "score = float(input(\"Nhập điểm trung bình: \"))\n",
        "if score >= 8:\n",
        "    print(\"Giỏi\")\n",
        "elif score >= 6.5:\n",
        "    print(\"Khá\")\n",
        "elif score >= 5:\n",
        "    print(\"Trung bình\")\n",
        "else:\n",
        "    print(\"Yếu\")"
      ],
      "metadata": {
        "id": "TZYPBjg4FUMk"
      },
      "execution_count": null,
      "outputs": []
    },
    {
      "cell_type": "code",
      "source": [
        "#bai15\n",
        "a = float(input(\"Nhập một số thực: \"))\n",
        "ceil = \" \"\n",
        "floor =\" \"\n",
        "rounds = \" \"\n",
        "if a == int (a):\n",
        "    ceil = floor = rounds = a\n",
        "    print(ceil, floor, rounds)\n",
        "elif a > 0:\n",
        "    ceil = int(a) + 1\n",
        "    floor = int(a)\n",
        "    if a - int(a) >= 0.5:\n",
        "        rounds = int(a) + 1\n",
        "    else:\n",
        "        rounds = int(a)\n",
        "    print(ceil, floor, rounds)\n",
        "else:\n",
        "    ceil = int(a)\n",
        "    floor = int(a) - 1\n",
        "    if a - int(a) <= -0.5:\n",
        "        rounds = int(a) - 1\n",
        "    else:\n",
        "        rounds = int(a)\n",
        "    print(ceil, floor, rounds)"
      ],
      "metadata": {
        "id": "VuuIo9DhFUTq"
      },
      "execution_count": null,
      "outputs": []
    },
    {
      "cell_type": "code",
      "source": [
        "#bai16\n",
        "a, b, c = map(int,input(\"Nhập 3 số nguyên dương( cách nhau bằng dấu cách): \").split())\n",
        "if a == b == c != 0:\n",
        "    print(\"Tam giác đều\")\n",
        "elif a == b != c or a == c != b or a != b == c:\n",
        "    print(\"Tam giác cân\")\n",
        "elif a + b > c and a + c > b and b + c > a:\n",
        "    print(\"Tam giác thường\")\n",
        "else:\n",
        "    print(\"Không phải tam giác\")"
      ],
      "metadata": {
        "id": "Mz2zjO7EFUa6"
      },
      "execution_count": null,
      "outputs": []
    }
  ]
}